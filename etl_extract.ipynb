{
 "cells": [
  {
   "cell_type": "code",
   "execution_count": 9,
   "id": "55315fcb-6576-44dd-b9e3-dfa7148bd48b",
   "metadata": {},
   "outputs": [
    {
     "name": "stdout",
     "output_type": "stream",
     "text": [
      "=== Full Extraction ===\n",
      "   transaction_id  customer_id  product_id product_name  quantity  \\\n",
      "0               1         1097         103       Tablet         4   \n",
      "1               2         1097         101       Laptop         5   \n",
      "2               3         1006         102   Smartphone         5   \n",
      "3               4         1074         107      Printer         2   \n",
      "4               5         1084         106        Mouse         4   \n",
      "\n",
      "   price_per_unit  total_price    transaction_date  \n",
      "0          275.40      1101.60 2025-06-06 16:04:38  \n",
      "1          149.56       747.80 2025-06-07 16:04:38  \n",
      "2          339.26      1696.30 2025-06-08 16:04:38  \n",
      "3          275.67       551.34 2025-06-05 16:04:38  \n",
      "4          143.74       574.96 2025-06-05 16:04:38  \n",
      "Extracted 100 rows fully.\n",
      "\n",
      "=== Incremental Extraction ===\n",
      "Extracted 0 rows incrementally since last check.\n",
      "No new data to update timestamp.\n"
     ]
    }
   ],
   "source": [
    "import pandas as pd\n",
    "from datetime import datetime\n",
    "\n",
    "# File paths\n",
    "csv_path = \"custom_data.csv\"\n",
    "timestamp_path = \"last_extraction.txt\"\n",
    "\n",
    "### --- Section 1: Full Extraction ---\n",
    "df = pd.read_csv(csv_path, parse_dates=['transaction_date'])\n",
    "print(\"=== Full Extraction ===\")\n",
    "print(df.head())\n",
    "print(f\"Extracted {len(df)} rows fully.\\n\")\n",
    "\n",
    "### --- Section 2: Incremental Extraction ---\n",
    "print(\"=== Incremental Extraction ===\")\n",
    "\n",
    "# Read last extraction time\n",
    "try:\n",
    "    with open(timestamp_path, \"r\") as f:\n",
    "        content = f.read().strip()\n",
    "        if content:\n",
    "            last_extraction_time = datetime.strptime(content, \"%Y-%m-%d %H:%M:%S\")\n",
    "        else:\n",
    "            last_extraction_time = datetime(1970, 1, 1)\n",
    "except FileNotFoundError:\n",
    "    last_extraction_time = datetime(1970, 1, 1)\n",
    "\n",
    "# Now use it to filter\n",
    "new_data = df[df['transaction_date'] > last_extraction_time]\n",
    "print(f\"Extracted {len(new_data)} rows incrementally since last check.\")\n",
    "\n",
    "### --- Section 3: Save New Timestamp ---\n",
    "if not new_data.empty:\n",
    "    new_timestamp = new_data['transaction_date'].max().strftime(\"%Y-%m-%d %H:%M:%S\")\n",
    "    with open(timestamp_path, \"w\") as f:\n",
    "        f.write(new_timestamp)\n",
    "    print(f\"Updated last extraction timestamp to: {new_timestamp}\")\n",
    "else:\n",
    "    print(\"No new data to update timestamp.\")\n"
   ]
  },
  {
   "cell_type": "code",
   "execution_count": null,
   "id": "6d53ff4f-28da-4776-afa2-578bbf15ba78",
   "metadata": {},
   "outputs": [],
   "source": []
  },
  {
   "cell_type": "code",
   "execution_count": null,
   "id": "29baef0e-56ac-41e4-99a6-0bba61e87a9e",
   "metadata": {},
   "outputs": [],
   "source": []
  }
 ],
 "metadata": {
  "kernelspec": {
   "display_name": "Python 3 (ipykernel)",
   "language": "python",
   "name": "python3"
  },
  "language_info": {
   "codemirror_mode": {
    "name": "ipython",
    "version": 3
   },
   "file_extension": ".py",
   "mimetype": "text/x-python",
   "name": "python",
   "nbconvert_exporter": "python",
   "pygments_lexer": "ipython3",
   "version": "3.12.4"
  }
 },
 "nbformat": 4,
 "nbformat_minor": 5
}
