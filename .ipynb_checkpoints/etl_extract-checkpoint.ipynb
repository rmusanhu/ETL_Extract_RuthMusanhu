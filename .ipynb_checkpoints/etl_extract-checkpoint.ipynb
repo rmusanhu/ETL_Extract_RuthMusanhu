{
 "cells": [
  {
   "cell_type": "code",
   "execution_count": null,
   "id": "55315fcb-6576-44dd-b9e3-dfa7148bd48b",
   "metadata": {},
   "outputs": [],
   "source": [
    "import pandas as pd\n",
    "from datetime import datetime\n",
    "\n",
    "# File paths\n",
    "csv_path = \"custom_data.csv\"\n",
    "timestamp_path = \"last_extraction.txt\"\n",
    "\n",
    "### --- Section 1: Full Extraction ---\n",
    "df = pd.read_csv(csv_path, parse_dates=['timestamp'])\n",
    "print(\"=== Full Extraction ===\")\n",
    "print(df.head())\n",
    "print(f\"Extracted {len(df)} rows fully.\\n\")\n",
    "\n",
    "### --- Section 2: Incremental Extraction ---\n",
    "print(\"=== Incremental Extraction ===\")\n",
    "\n",
    "# Read last extraction time\n",
    "with open(timestamp_path, \"r\") as f:\n",
    "    last_extraction_time = datetime.strptime(f.read().strip(), \"%Y-%m-%d %H:%M:%S\")\n",
    "\n",
    "# Filter new records\n",
    "new_data = df[df['timestamp'] > last_extraction_time]\n",
    "print(new_data)\n",
    "print(f\"Extracted {len(new_data)} rows incrementally since last check.\\n\")\n",
    "\n",
    "### --- Section 3: Save New Timestamp ---\n",
    "if not new_data.empty:\n",
    "    new_timestamp = new_data['timestamp'].max().strftime(\"%Y-%m-%d %H:%M:%S\")\n",
    "    with open(timestamp_path, \"w\") as f:\n",
    "        f.write(new_timestamp)\n",
    "    print(f\"Updated last extraction timestamp to: {new_timestamp}\")\n",
    "else:\n",
    "    print(\"No new data to update timestamp.\")\n"
   ]
  },
  {
   "cell_type": "code",
   "execution_count": null,
   "id": "6d53ff4f-28da-4776-afa2-578bbf15ba78",
   "metadata": {},
   "outputs": [],
   "source": []
  }
 ],
 "metadata": {
  "kernelspec": {
   "display_name": "Python 3 (ipykernel)",
   "language": "python",
   "name": "python3"
  },
  "language_info": {
   "codemirror_mode": {
    "name": "ipython",
    "version": 3
   },
   "file_extension": ".py",
   "mimetype": "text/x-python",
   "name": "python",
   "nbconvert_exporter": "python",
   "pygments_lexer": "ipython3",
   "version": "3.12.4"
  }
 },
 "nbformat": 4,
 "nbformat_minor": 5
}
